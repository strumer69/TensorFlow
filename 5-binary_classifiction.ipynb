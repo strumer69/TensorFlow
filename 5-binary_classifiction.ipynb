{
 "cells": [
  {
   "cell_type": "markdown",
   "id": "4e9d5979",
   "metadata": {},
   "source": [
    "## reference:\n",
    "https://www.amazon.com/stores/Poornachandra-Sarang/author/B08PL7FBQZ?ref=ap_rdr&isDramIntegrated=true&shoppingPortalEnabled=true"
   ]
  },
  {
   "cell_type": "code",
   "execution_count": 76,
   "id": "b4a8bbc5",
   "metadata": {},
   "outputs": [],
   "source": [
    "#page 71"
   ]
  },
  {
   "cell_type": "markdown",
   "id": "ccf5a040",
   "metadata": {},
   "source": [
    "Consider now that the bank has \n",
    "approached you to develop a ML prediction model which provides them \n",
    "some insights on the likelihood of the customer leaving the bank. In the \n",
    "financial terms, this is called churning. Having the knowledge that a \n",
    "certain customer may leave the bank in the near future, the bank can take \n",
    "some preventive measures to retain the customer.\n",
    "The problem that you are trying to solve is to develop a binary \n",
    "classification model. You will use TensorFlow’s deep learning library and \n",
    "will make use of Keras high-level API for implementing the model"
   ]
  },
  {
   "cell_type": "code",
   "execution_count": 77,
   "id": "a9441a95",
   "metadata": {},
   "outputs": [],
   "source": [
    "# imports"
   ]
  },
  {
   "cell_type": "code",
   "execution_count": 78,
   "id": "4a23fd15",
   "metadata": {},
   "outputs": [],
   "source": [
    "# %tensorflow_version 2.x\n",
    "import tensorflow as tf\n",
    "from tensorflow import keras"
   ]
  },
  {
   "cell_type": "code",
   "execution_count": 79,
   "id": "ead6d0af",
   "metadata": {},
   "outputs": [],
   "source": [
    "#loading data\n",
    "import pandas as pd\n",
    "\n",
    "#scaling feature values\n",
    "from sklearn.preprocessing import StandardScaler\n",
    "\n",
    "#encoding target values\n",
    "from sklearn.preprocessing import LabelEncoder\n",
    "\n",
    "#shuffling data\n",
    "from sklearn.utils import shuffle\n",
    "\n",
    "#splitting the dataset into training and validation\n",
    "from sklearn.model_selection import train_test_split\n",
    "\n",
    "#plotting curves\n",
    "import matplotlib.pyplot as plt"
   ]
  },
  {
   "cell_type": "markdown",
   "id": "64ff0528",
   "metadata": {},
   "source": [
    "data_url = 'https://raw.githubusercontent.com/Apress/artificial\u0002neural-networks-with-tensorflow-2/main/ch02/Churn_Modelling.csv'\n",
    "\n",
    "* data=pd.read_csv(data_url)"
   ]
  },
  {
   "cell_type": "code",
   "execution_count": 80,
   "id": "e40c98a5",
   "metadata": {},
   "outputs": [],
   "source": [
    "data = pd.read_csv('5-Churn_Modelling.csv')"
   ]
  },
  {
   "cell_type": "code",
   "execution_count": 81,
   "id": "019729d5",
   "metadata": {},
   "outputs": [],
   "source": [
    "# For better machine learning, you should randomize the data so that the learning does not \n",
    "# follow the undesired patterns in the data. So, we shuffle the data using the \n",
    "# following statement:\n",
    "data=shuffle(data)"
   ]
  },
  {
   "cell_type": "code",
   "execution_count": 82,
   "id": "f2dd5707",
   "metadata": {},
   "outputs": [
    {
     "data": {
      "text/html": [
       "<div>\n",
       "<style scoped>\n",
       "    .dataframe tbody tr th:only-of-type {\n",
       "        vertical-align: middle;\n",
       "    }\n",
       "\n",
       "    .dataframe tbody tr th {\n",
       "        vertical-align: top;\n",
       "    }\n",
       "\n",
       "    .dataframe thead th {\n",
       "        text-align: right;\n",
       "    }\n",
       "</style>\n",
       "<table border=\"1\" class=\"dataframe\">\n",
       "  <thead>\n",
       "    <tr style=\"text-align: right;\">\n",
       "      <th></th>\n",
       "      <th>RowNumber</th>\n",
       "      <th>CustomerId</th>\n",
       "      <th>Surname</th>\n",
       "      <th>CreditScore</th>\n",
       "      <th>Geography</th>\n",
       "      <th>Gender</th>\n",
       "      <th>Age</th>\n",
       "      <th>Tenure</th>\n",
       "      <th>Balance</th>\n",
       "      <th>NumOfProducts</th>\n",
       "      <th>HasCrCard</th>\n",
       "      <th>IsActiveMember</th>\n",
       "      <th>EstimatedSalary</th>\n",
       "      <th>Exited</th>\n",
       "    </tr>\n",
       "  </thead>\n",
       "  <tbody>\n",
       "    <tr>\n",
       "      <th>6825</th>\n",
       "      <td>6826</td>\n",
       "      <td>15615477</td>\n",
       "      <td>Ignatyeva</td>\n",
       "      <td>529</td>\n",
       "      <td>Spain</td>\n",
       "      <td>Female</td>\n",
       "      <td>44</td>\n",
       "      <td>1</td>\n",
       "      <td>0.00</td>\n",
       "      <td>2</td>\n",
       "      <td>0</td>\n",
       "      <td>0</td>\n",
       "      <td>14161.30</td>\n",
       "      <td>0</td>\n",
       "    </tr>\n",
       "    <tr>\n",
       "      <th>4749</th>\n",
       "      <td>4750</td>\n",
       "      <td>15683027</td>\n",
       "      <td>Chang</td>\n",
       "      <td>570</td>\n",
       "      <td>Germany</td>\n",
       "      <td>Male</td>\n",
       "      <td>29</td>\n",
       "      <td>4</td>\n",
       "      <td>122028.65</td>\n",
       "      <td>2</td>\n",
       "      <td>1</td>\n",
       "      <td>1</td>\n",
       "      <td>173792.77</td>\n",
       "      <td>0</td>\n",
       "    </tr>\n",
       "    <tr>\n",
       "      <th>7399</th>\n",
       "      <td>7400</td>\n",
       "      <td>15769548</td>\n",
       "      <td>Hyde</td>\n",
       "      <td>668</td>\n",
       "      <td>France</td>\n",
       "      <td>Female</td>\n",
       "      <td>37</td>\n",
       "      <td>7</td>\n",
       "      <td>128645.67</td>\n",
       "      <td>1</td>\n",
       "      <td>1</td>\n",
       "      <td>0</td>\n",
       "      <td>92149.64</td>\n",
       "      <td>0</td>\n",
       "    </tr>\n",
       "    <tr>\n",
       "      <th>4676</th>\n",
       "      <td>4677</td>\n",
       "      <td>15610271</td>\n",
       "      <td>Andreev</td>\n",
       "      <td>684</td>\n",
       "      <td>Spain</td>\n",
       "      <td>Female</td>\n",
       "      <td>42</td>\n",
       "      <td>3</td>\n",
       "      <td>103210.27</td>\n",
       "      <td>1</td>\n",
       "      <td>1</td>\n",
       "      <td>0</td>\n",
       "      <td>31002.03</td>\n",
       "      <td>0</td>\n",
       "    </tr>\n",
       "    <tr>\n",
       "      <th>8690</th>\n",
       "      <td>8691</td>\n",
       "      <td>15756167</td>\n",
       "      <td>Doyne</td>\n",
       "      <td>762</td>\n",
       "      <td>Spain</td>\n",
       "      <td>Female</td>\n",
       "      <td>43</td>\n",
       "      <td>5</td>\n",
       "      <td>134204.67</td>\n",
       "      <td>1</td>\n",
       "      <td>1</td>\n",
       "      <td>1</td>\n",
       "      <td>139971.01</td>\n",
       "      <td>0</td>\n",
       "    </tr>\n",
       "    <tr>\n",
       "      <th>...</th>\n",
       "      <td>...</td>\n",
       "      <td>...</td>\n",
       "      <td>...</td>\n",
       "      <td>...</td>\n",
       "      <td>...</td>\n",
       "      <td>...</td>\n",
       "      <td>...</td>\n",
       "      <td>...</td>\n",
       "      <td>...</td>\n",
       "      <td>...</td>\n",
       "      <td>...</td>\n",
       "      <td>...</td>\n",
       "      <td>...</td>\n",
       "      <td>...</td>\n",
       "    </tr>\n",
       "    <tr>\n",
       "      <th>2399</th>\n",
       "      <td>2400</td>\n",
       "      <td>15672516</td>\n",
       "      <td>Wall</td>\n",
       "      <td>541</td>\n",
       "      <td>Germany</td>\n",
       "      <td>Male</td>\n",
       "      <td>51</td>\n",
       "      <td>7</td>\n",
       "      <td>90373.28</td>\n",
       "      <td>2</td>\n",
       "      <td>1</td>\n",
       "      <td>0</td>\n",
       "      <td>179861.79</td>\n",
       "      <td>0</td>\n",
       "    </tr>\n",
       "    <tr>\n",
       "      <th>7766</th>\n",
       "      <td>7767</td>\n",
       "      <td>15647259</td>\n",
       "      <td>Barnett</td>\n",
       "      <td>643</td>\n",
       "      <td>Spain</td>\n",
       "      <td>Male</td>\n",
       "      <td>35</td>\n",
       "      <td>2</td>\n",
       "      <td>0.00</td>\n",
       "      <td>2</td>\n",
       "      <td>0</td>\n",
       "      <td>0</td>\n",
       "      <td>67979.35</td>\n",
       "      <td>0</td>\n",
       "    </tr>\n",
       "    <tr>\n",
       "      <th>573</th>\n",
       "      <td>574</td>\n",
       "      <td>15607312</td>\n",
       "      <td>Ch'ang</td>\n",
       "      <td>648</td>\n",
       "      <td>Spain</td>\n",
       "      <td>Female</td>\n",
       "      <td>49</td>\n",
       "      <td>10</td>\n",
       "      <td>0.00</td>\n",
       "      <td>2</td>\n",
       "      <td>1</td>\n",
       "      <td>1</td>\n",
       "      <td>159835.78</td>\n",
       "      <td>1</td>\n",
       "    </tr>\n",
       "    <tr>\n",
       "      <th>6711</th>\n",
       "      <td>6712</td>\n",
       "      <td>15727499</td>\n",
       "      <td>Boyle</td>\n",
       "      <td>666</td>\n",
       "      <td>Germany</td>\n",
       "      <td>Female</td>\n",
       "      <td>36</td>\n",
       "      <td>3</td>\n",
       "      <td>129118.50</td>\n",
       "      <td>2</td>\n",
       "      <td>0</td>\n",
       "      <td>0</td>\n",
       "      <td>139435.12</td>\n",
       "      <td>0</td>\n",
       "    </tr>\n",
       "    <tr>\n",
       "      <th>3307</th>\n",
       "      <td>3308</td>\n",
       "      <td>15618566</td>\n",
       "      <td>Jamieson</td>\n",
       "      <td>572</td>\n",
       "      <td>France</td>\n",
       "      <td>Female</td>\n",
       "      <td>38</td>\n",
       "      <td>7</td>\n",
       "      <td>0.00</td>\n",
       "      <td>2</td>\n",
       "      <td>1</td>\n",
       "      <td>1</td>\n",
       "      <td>133122.62</td>\n",
       "      <td>0</td>\n",
       "    </tr>\n",
       "  </tbody>\n",
       "</table>\n",
       "<p>10000 rows × 14 columns</p>\n",
       "</div>"
      ],
      "text/plain": [
       "      RowNumber  CustomerId    Surname  CreditScore Geography  Gender  Age  \\\n",
       "6825       6826    15615477  Ignatyeva          529     Spain  Female   44   \n",
       "4749       4750    15683027      Chang          570   Germany    Male   29   \n",
       "7399       7400    15769548       Hyde          668    France  Female   37   \n",
       "4676       4677    15610271    Andreev          684     Spain  Female   42   \n",
       "8690       8691    15756167      Doyne          762     Spain  Female   43   \n",
       "...         ...         ...        ...          ...       ...     ...  ...   \n",
       "2399       2400    15672516       Wall          541   Germany    Male   51   \n",
       "7766       7767    15647259    Barnett          643     Spain    Male   35   \n",
       "573         574    15607312     Ch'ang          648     Spain  Female   49   \n",
       "6711       6712    15727499      Boyle          666   Germany  Female   36   \n",
       "3307       3308    15618566   Jamieson          572    France  Female   38   \n",
       "\n",
       "      Tenure    Balance  NumOfProducts  HasCrCard  IsActiveMember  \\\n",
       "6825       1       0.00              2          0               0   \n",
       "4749       4  122028.65              2          1               1   \n",
       "7399       7  128645.67              1          1               0   \n",
       "4676       3  103210.27              1          1               0   \n",
       "8690       5  134204.67              1          1               1   \n",
       "...      ...        ...            ...        ...             ...   \n",
       "2399       7   90373.28              2          1               0   \n",
       "7766       2       0.00              2          0               0   \n",
       "573       10       0.00              2          1               1   \n",
       "6711       3  129118.50              2          0               0   \n",
       "3307       7       0.00              2          1               1   \n",
       "\n",
       "      EstimatedSalary  Exited  \n",
       "6825         14161.30       0  \n",
       "4749        173792.77       0  \n",
       "7399         92149.64       0  \n",
       "4676         31002.03       0  \n",
       "8690        139971.01       0  \n",
       "...               ...     ...  \n",
       "2399        179861.79       0  \n",
       "7766         67979.35       0  \n",
       "573         159835.78       1  \n",
       "6711        139435.12       0  \n",
       "3307        133122.62       0  \n",
       "\n",
       "[10000 rows x 14 columns]"
      ]
     },
     "execution_count": 82,
     "metadata": {},
     "output_type": "execute_result"
    }
   ],
   "source": [
    "data"
   ]
  },
  {
   "cell_type": "markdown",
   "id": "0f0d4ab9",
   "metadata": {},
   "source": [
    "### There are 10,000 rows and 14 columns in the database. A brief \n",
    "explanation of the various fields is given here:\n",
    "\n",
    "*  RowNumber – Numbers from 1 to 10,000.\n",
    "* Surname – Customer’s last name.\n",
    "* CreditScore – Customer’s credit score.\n",
    "* Geography – Customer’s country.\n",
    "* Gender – Male or female.\n",
    "* Age – Customer’s age.\n",
    "* Tenure – How long the customer is banking with them?\n",
    "* Balance – Customer’s bank balance.\n",
    "* NumOfProducts – The count of bank products the customer is currently using.\n",
    "* HasCrCard – Does the customer hold a credit card?\n",
    "* IsActiveMember – Is the customer currently active?\n",
    "* EstimatedSalary – Customer’s current estimated salary.\n",
    "*  Exited – A value of 1 indicates that the customer has left the bank."
   ]
  },
  {
   "cell_type": "markdown",
   "id": "bfbc1f9b",
   "metadata": {},
   "source": [
    "# cleaning preprocessing"
   ]
  },
  {
   "cell_type": "code",
   "execution_count": 83,
   "id": "399f4681",
   "metadata": {},
   "outputs": [
    {
     "data": {
      "text/plain": [
       "RowNumber          0\n",
       "CustomerId         0\n",
       "Surname            0\n",
       "CreditScore        0\n",
       "Geography          0\n",
       "Gender             0\n",
       "Age                0\n",
       "Tenure             0\n",
       "Balance            0\n",
       "NumOfProducts      0\n",
       "HasCrCard          0\n",
       "IsActiveMember     0\n",
       "EstimatedSalary    0\n",
       "Exited             0\n",
       "dtype: int64"
      ]
     },
     "execution_count": 83,
     "metadata": {},
     "output_type": "execute_result"
    }
   ],
   "source": [
    "## Checking Nulls\n",
    "data.isnull().sum()\n"
   ]
  },
  {
   "cell_type": "code",
   "execution_count": 84,
   "id": "5f41cd26",
   "metadata": {},
   "outputs": [],
   "source": [
    "#Very clearly, our dataset does not contain any null values"
   ]
  },
  {
   "cell_type": "markdown",
   "id": "55b3081a",
   "metadata": {},
   "source": [
    "# Selecting Features and Labels\n"
   ]
  },
  {
   "cell_type": "code",
   "execution_count": 85,
   "id": "019063ad",
   "metadata": {},
   "outputs": [],
   "source": [
    "# drop the useless features\n",
    "X = data.drop(labels=['CustomerId', 'Surname', 'RowNumber', 'Exited'], axis = 1)"
   ]
  },
  {
   "cell_type": "code",
   "execution_count": 86,
   "id": "c635134e",
   "metadata": {},
   "outputs": [],
   "source": [
    "# target\n",
    "y = data['Exited']\n"
   ]
  },
  {
   "cell_type": "markdown",
   "id": "cc3302bf",
   "metadata": {},
   "source": [
    "# Encoding Categorical Columns\n"
   ]
  },
  {
   "cell_type": "code",
   "execution_count": 87,
   "id": "2acbcfdf",
   "metadata": {},
   "outputs": [
    {
     "data": {
      "text/plain": [
       "CreditScore          int64\n",
       "Geography           object\n",
       "Gender              object\n",
       "Age                  int64\n",
       "Tenure               int64\n",
       "Balance            float64\n",
       "NumOfProducts        int64\n",
       "HasCrCard            int64\n",
       "IsActiveMember       int64\n",
       "EstimatedSalary    float64\n",
       "dtype: object"
      ]
     },
     "execution_count": 87,
     "metadata": {},
     "output_type": "execute_result"
    }
   ],
   "source": [
    "X.dtypes\n"
   ]
  },
  {
   "cell_type": "code",
   "execution_count": 88,
   "id": "ef5a3c16",
   "metadata": {
    "scrolled": true
   },
   "outputs": [
    {
     "data": {
      "text/html": [
       "<div>\n",
       "<style scoped>\n",
       "    .dataframe tbody tr th:only-of-type {\n",
       "        vertical-align: middle;\n",
       "    }\n",
       "\n",
       "    .dataframe tbody tr th {\n",
       "        vertical-align: top;\n",
       "    }\n",
       "\n",
       "    .dataframe thead th {\n",
       "        text-align: right;\n",
       "    }\n",
       "</style>\n",
       "<table border=\"1\" class=\"dataframe\">\n",
       "  <thead>\n",
       "    <tr style=\"text-align: right;\">\n",
       "      <th></th>\n",
       "      <th>CreditScore</th>\n",
       "      <th>Geography</th>\n",
       "      <th>Gender</th>\n",
       "      <th>Age</th>\n",
       "      <th>Tenure</th>\n",
       "      <th>Balance</th>\n",
       "      <th>NumOfProducts</th>\n",
       "      <th>HasCrCard</th>\n",
       "      <th>IsActiveMember</th>\n",
       "      <th>EstimatedSalary</th>\n",
       "    </tr>\n",
       "  </thead>\n",
       "  <tbody>\n",
       "    <tr>\n",
       "      <th>6825</th>\n",
       "      <td>529</td>\n",
       "      <td>Spain</td>\n",
       "      <td>Female</td>\n",
       "      <td>44</td>\n",
       "      <td>1</td>\n",
       "      <td>0.00</td>\n",
       "      <td>2</td>\n",
       "      <td>0</td>\n",
       "      <td>0</td>\n",
       "      <td>14161.30</td>\n",
       "    </tr>\n",
       "    <tr>\n",
       "      <th>4749</th>\n",
       "      <td>570</td>\n",
       "      <td>Germany</td>\n",
       "      <td>Male</td>\n",
       "      <td>29</td>\n",
       "      <td>4</td>\n",
       "      <td>122028.65</td>\n",
       "      <td>2</td>\n",
       "      <td>1</td>\n",
       "      <td>1</td>\n",
       "      <td>173792.77</td>\n",
       "    </tr>\n",
       "    <tr>\n",
       "      <th>7399</th>\n",
       "      <td>668</td>\n",
       "      <td>France</td>\n",
       "      <td>Female</td>\n",
       "      <td>37</td>\n",
       "      <td>7</td>\n",
       "      <td>128645.67</td>\n",
       "      <td>1</td>\n",
       "      <td>1</td>\n",
       "      <td>0</td>\n",
       "      <td>92149.64</td>\n",
       "    </tr>\n",
       "    <tr>\n",
       "      <th>4676</th>\n",
       "      <td>684</td>\n",
       "      <td>Spain</td>\n",
       "      <td>Female</td>\n",
       "      <td>42</td>\n",
       "      <td>3</td>\n",
       "      <td>103210.27</td>\n",
       "      <td>1</td>\n",
       "      <td>1</td>\n",
       "      <td>0</td>\n",
       "      <td>31002.03</td>\n",
       "    </tr>\n",
       "    <tr>\n",
       "      <th>8690</th>\n",
       "      <td>762</td>\n",
       "      <td>Spain</td>\n",
       "      <td>Female</td>\n",
       "      <td>43</td>\n",
       "      <td>5</td>\n",
       "      <td>134204.67</td>\n",
       "      <td>1</td>\n",
       "      <td>1</td>\n",
       "      <td>1</td>\n",
       "      <td>139971.01</td>\n",
       "    </tr>\n",
       "  </tbody>\n",
       "</table>\n",
       "</div>"
      ],
      "text/plain": [
       "      CreditScore Geography  Gender  Age  Tenure    Balance  NumOfProducts  \\\n",
       "6825          529     Spain  Female   44       1       0.00              2   \n",
       "4749          570   Germany    Male   29       4  122028.65              2   \n",
       "7399          668    France  Female   37       7  128645.67              1   \n",
       "4676          684     Spain  Female   42       3  103210.27              1   \n",
       "8690          762     Spain  Female   43       5  134204.67              1   \n",
       "\n",
       "      HasCrCard  IsActiveMember  EstimatedSalary  \n",
       "6825          0               0         14161.30  \n",
       "4749          1               1        173792.77  \n",
       "7399          1               0         92149.64  \n",
       "4676          1               0         31002.03  \n",
       "8690          1               1        139971.01  "
      ]
     },
     "execution_count": 88,
     "metadata": {},
     "output_type": "execute_result"
    }
   ],
   "source": [
    "X.head()"
   ]
  },
  {
   "cell_type": "code",
   "execution_count": 89,
   "id": "1fc7316a",
   "metadata": {},
   "outputs": [],
   "source": [
    "#convert categoricalto numerical\n",
    "from sklearn.preprocessing import LabelEncoder\n",
    "label = LabelEncoder()\n",
    "X['Geography'] = label.fit_transform(X['Geography'])\n",
    "X['Gender'] = label.fit_transform(X['Gender'])"
   ]
  },
  {
   "cell_type": "code",
   "execution_count": 90,
   "id": "44a84819",
   "metadata": {},
   "outputs": [
    {
     "data": {
      "text/html": [
       "<div>\n",
       "<style scoped>\n",
       "    .dataframe tbody tr th:only-of-type {\n",
       "        vertical-align: middle;\n",
       "    }\n",
       "\n",
       "    .dataframe tbody tr th {\n",
       "        vertical-align: top;\n",
       "    }\n",
       "\n",
       "    .dataframe thead th {\n",
       "        text-align: right;\n",
       "    }\n",
       "</style>\n",
       "<table border=\"1\" class=\"dataframe\">\n",
       "  <thead>\n",
       "    <tr style=\"text-align: right;\">\n",
       "      <th></th>\n",
       "      <th>CreditScore</th>\n",
       "      <th>Geography</th>\n",
       "      <th>Gender</th>\n",
       "      <th>Age</th>\n",
       "      <th>Tenure</th>\n",
       "      <th>Balance</th>\n",
       "      <th>NumOfProducts</th>\n",
       "      <th>HasCrCard</th>\n",
       "      <th>IsActiveMember</th>\n",
       "      <th>EstimatedSalary</th>\n",
       "    </tr>\n",
       "  </thead>\n",
       "  <tbody>\n",
       "    <tr>\n",
       "      <th>6825</th>\n",
       "      <td>529</td>\n",
       "      <td>2</td>\n",
       "      <td>0</td>\n",
       "      <td>44</td>\n",
       "      <td>1</td>\n",
       "      <td>0.00</td>\n",
       "      <td>2</td>\n",
       "      <td>0</td>\n",
       "      <td>0</td>\n",
       "      <td>14161.30</td>\n",
       "    </tr>\n",
       "    <tr>\n",
       "      <th>4749</th>\n",
       "      <td>570</td>\n",
       "      <td>1</td>\n",
       "      <td>1</td>\n",
       "      <td>29</td>\n",
       "      <td>4</td>\n",
       "      <td>122028.65</td>\n",
       "      <td>2</td>\n",
       "      <td>1</td>\n",
       "      <td>1</td>\n",
       "      <td>173792.77</td>\n",
       "    </tr>\n",
       "    <tr>\n",
       "      <th>7399</th>\n",
       "      <td>668</td>\n",
       "      <td>0</td>\n",
       "      <td>0</td>\n",
       "      <td>37</td>\n",
       "      <td>7</td>\n",
       "      <td>128645.67</td>\n",
       "      <td>1</td>\n",
       "      <td>1</td>\n",
       "      <td>0</td>\n",
       "      <td>92149.64</td>\n",
       "    </tr>\n",
       "    <tr>\n",
       "      <th>4676</th>\n",
       "      <td>684</td>\n",
       "      <td>2</td>\n",
       "      <td>0</td>\n",
       "      <td>42</td>\n",
       "      <td>3</td>\n",
       "      <td>103210.27</td>\n",
       "      <td>1</td>\n",
       "      <td>1</td>\n",
       "      <td>0</td>\n",
       "      <td>31002.03</td>\n",
       "    </tr>\n",
       "    <tr>\n",
       "      <th>8690</th>\n",
       "      <td>762</td>\n",
       "      <td>2</td>\n",
       "      <td>0</td>\n",
       "      <td>43</td>\n",
       "      <td>5</td>\n",
       "      <td>134204.67</td>\n",
       "      <td>1</td>\n",
       "      <td>1</td>\n",
       "      <td>1</td>\n",
       "      <td>139971.01</td>\n",
       "    </tr>\n",
       "  </tbody>\n",
       "</table>\n",
       "</div>"
      ],
      "text/plain": [
       "      CreditScore  Geography  Gender  Age  Tenure    Balance  NumOfProducts  \\\n",
       "6825          529          2       0   44       1       0.00              2   \n",
       "4749          570          1       1   29       4  122028.65              2   \n",
       "7399          668          0       0   37       7  128645.67              1   \n",
       "4676          684          2       0   42       3  103210.27              1   \n",
       "8690          762          2       0   43       5  134204.67              1   \n",
       "\n",
       "      HasCrCard  IsActiveMember  EstimatedSalary  \n",
       "6825          0               0         14161.30  \n",
       "4749          1               1        173792.77  \n",
       "7399          1               0         92149.64  \n",
       "4676          1               0         31002.03  \n",
       "8690          1               1        139971.01  "
      ]
     },
     "execution_count": 90,
     "metadata": {},
     "output_type": "execute_result"
    }
   ],
   "source": [
    "X.head()"
   ]
  },
  {
   "cell_type": "code",
   "execution_count": 91,
   "id": "ff94b8d2",
   "metadata": {},
   "outputs": [
    {
     "data": {
      "text/plain": [
       "array([2, 1, 0])"
      ]
     },
     "execution_count": 91,
     "metadata": {},
     "output_type": "execute_result"
    }
   ],
   "source": [
    "X['Geography'].unique()"
   ]
  },
  {
   "cell_type": "code",
   "execution_count": 92,
   "id": "950e1976",
   "metadata": {},
   "outputs": [
    {
     "data": {
      "text/plain": [
       "(10000, 10)"
      ]
     },
     "execution_count": 92,
     "metadata": {},
     "output_type": "execute_result"
    }
   ],
   "source": [
    "X.shape"
   ]
  },
  {
   "cell_type": "code",
   "execution_count": 93,
   "id": "e1a48ba8",
   "metadata": {},
   "outputs": [],
   "source": [
    "#The one-hot encoding creates dummy variables for categorical columns."
   ]
  },
  {
   "cell_type": "markdown",
   "id": "4dafec98",
   "metadata": {},
   "source": [
    "* As Geography column has three distinct values, it will create three variables – one for each country. \n",
    "* Thus, we will have three features pertaining to the country in our training dataset"
   ]
  },
  {
   "cell_type": "markdown",
   "id": "05abb05b",
   "metadata": {},
   "source": [
    "* Having many features increases the training time. \n",
    "* To reduce the number of features, you can exclude one of the dummy variables pertaining to the country field and yet \n",
    "* achieve the same results. \n",
    "* We drop the first variable by calling get_dummies method"
   ]
  },
  {
   "cell_type": "code",
   "execution_count": 94,
   "id": "622ed891",
   "metadata": {},
   "outputs": [
    {
     "data": {
      "text/plain": [
       "(10000, 11)"
      ]
     },
     "execution_count": 94,
     "metadata": {},
     "output_type": "execute_result"
    }
   ],
   "source": [
    "X = pd.get_dummies(X, drop_first=True, columns=['Geography'])\n",
    "X.shape"
   ]
  },
  {
   "cell_type": "code",
   "execution_count": 95,
   "id": "4cadcf3e",
   "metadata": {},
   "outputs": [
    {
     "data": {
      "text/html": [
       "<div>\n",
       "<style scoped>\n",
       "    .dataframe tbody tr th:only-of-type {\n",
       "        vertical-align: middle;\n",
       "    }\n",
       "\n",
       "    .dataframe tbody tr th {\n",
       "        vertical-align: top;\n",
       "    }\n",
       "\n",
       "    .dataframe thead th {\n",
       "        text-align: right;\n",
       "    }\n",
       "</style>\n",
       "<table border=\"1\" class=\"dataframe\">\n",
       "  <thead>\n",
       "    <tr style=\"text-align: right;\">\n",
       "      <th></th>\n",
       "      <th>CreditScore</th>\n",
       "      <th>Gender</th>\n",
       "      <th>Age</th>\n",
       "      <th>Tenure</th>\n",
       "      <th>Balance</th>\n",
       "      <th>NumOfProducts</th>\n",
       "      <th>HasCrCard</th>\n",
       "      <th>IsActiveMember</th>\n",
       "      <th>EstimatedSalary</th>\n",
       "      <th>Geography_1</th>\n",
       "      <th>Geography_2</th>\n",
       "    </tr>\n",
       "  </thead>\n",
       "  <tbody>\n",
       "    <tr>\n",
       "      <th>6825</th>\n",
       "      <td>529</td>\n",
       "      <td>0</td>\n",
       "      <td>44</td>\n",
       "      <td>1</td>\n",
       "      <td>0.00</td>\n",
       "      <td>2</td>\n",
       "      <td>0</td>\n",
       "      <td>0</td>\n",
       "      <td>14161.30</td>\n",
       "      <td>False</td>\n",
       "      <td>True</td>\n",
       "    </tr>\n",
       "    <tr>\n",
       "      <th>4749</th>\n",
       "      <td>570</td>\n",
       "      <td>1</td>\n",
       "      <td>29</td>\n",
       "      <td>4</td>\n",
       "      <td>122028.65</td>\n",
       "      <td>2</td>\n",
       "      <td>1</td>\n",
       "      <td>1</td>\n",
       "      <td>173792.77</td>\n",
       "      <td>True</td>\n",
       "      <td>False</td>\n",
       "    </tr>\n",
       "    <tr>\n",
       "      <th>7399</th>\n",
       "      <td>668</td>\n",
       "      <td>0</td>\n",
       "      <td>37</td>\n",
       "      <td>7</td>\n",
       "      <td>128645.67</td>\n",
       "      <td>1</td>\n",
       "      <td>1</td>\n",
       "      <td>0</td>\n",
       "      <td>92149.64</td>\n",
       "      <td>False</td>\n",
       "      <td>False</td>\n",
       "    </tr>\n",
       "    <tr>\n",
       "      <th>4676</th>\n",
       "      <td>684</td>\n",
       "      <td>0</td>\n",
       "      <td>42</td>\n",
       "      <td>3</td>\n",
       "      <td>103210.27</td>\n",
       "      <td>1</td>\n",
       "      <td>1</td>\n",
       "      <td>0</td>\n",
       "      <td>31002.03</td>\n",
       "      <td>False</td>\n",
       "      <td>True</td>\n",
       "    </tr>\n",
       "    <tr>\n",
       "      <th>8690</th>\n",
       "      <td>762</td>\n",
       "      <td>0</td>\n",
       "      <td>43</td>\n",
       "      <td>5</td>\n",
       "      <td>134204.67</td>\n",
       "      <td>1</td>\n",
       "      <td>1</td>\n",
       "      <td>1</td>\n",
       "      <td>139971.01</td>\n",
       "      <td>False</td>\n",
       "      <td>True</td>\n",
       "    </tr>\n",
       "  </tbody>\n",
       "</table>\n",
       "</div>"
      ],
      "text/plain": [
       "      CreditScore  Gender  Age  Tenure    Balance  NumOfProducts  HasCrCard  \\\n",
       "6825          529       0   44       1       0.00              2          0   \n",
       "4749          570       1   29       4  122028.65              2          1   \n",
       "7399          668       0   37       7  128645.67              1          1   \n",
       "4676          684       0   42       3  103210.27              1          1   \n",
       "8690          762       0   43       5  134204.67              1          1   \n",
       "\n",
       "      IsActiveMember  EstimatedSalary  Geography_1  Geography_2  \n",
       "6825               0         14161.30        False         True  \n",
       "4749               1        173792.77         True        False  \n",
       "7399               0         92149.64        False        False  \n",
       "4676               0         31002.03        False         True  \n",
       "8690               1        139971.01        False         True  "
      ]
     },
     "execution_count": 95,
     "metadata": {},
     "output_type": "execute_result"
    }
   ],
   "source": [
    "X.head()"
   ]
  },
  {
   "cell_type": "code",
   "execution_count": 96,
   "id": "027d2f3a",
   "metadata": {},
   "outputs": [],
   "source": [
    "# X['Geography'].unique()\n",
    "# Geography has beenconverted to eography_1\tGeography_2"
   ]
  },
  {
   "cell_type": "markdown",
   "id": "2163246c",
   "metadata": {},
   "source": [
    "# Scaling Numerical Values\n",
    "* Scaling to -1 to 1\n"
   ]
  },
  {
   "cell_type": "code",
   "execution_count": 97,
   "id": "b45611bb",
   "metadata": {},
   "outputs": [],
   "source": [
    "# z=  = (x - mu) / s\n",
    "# mu is the mean and s is standard deviation\n",
    "# This standardization is performed by using the StandardScaler function of sklearn\n",
    "from sklearn.preprocessing import StandardScaler\n",
    "\n",
    "scaler = StandardScaler()\n",
    "\n",
    "X = scaler.fit_transform(X)\n"
   ]
  },
  {
   "cell_type": "code",
   "execution_count": 98,
   "id": "80b86c66",
   "metadata": {},
   "outputs": [],
   "source": [
    "#  Split dataset into training and testing\n",
    "\n",
    "from sklearn.model_selection import train_test_split\n",
    "\n",
    "X_train, X_test, y_train, y_test = train_test_split(X, y, test_size = 0.3)"
   ]
  },
  {
   "cell_type": "code",
   "execution_count": 99,
   "id": "7a9aec40",
   "metadata": {},
   "outputs": [
    {
     "data": {
      "text/plain": [
       "11"
      ]
     },
     "execution_count": 99,
     "metadata": {},
     "output_type": "execute_result"
    }
   ],
   "source": [
    "# determine number of features:\n",
    "X_train.shape[1]\n"
   ]
  },
  {
   "cell_type": "code",
   "execution_count": 100,
   "id": "8e8cc3ff",
   "metadata": {},
   "outputs": [],
   "source": [
    "model = keras.models.Sequential()\n"
   ]
  },
  {
   "cell_type": "code",
   "execution_count": 101,
   "id": "b0e13b17",
   "metadata": {},
   "outputs": [
    {
     "name": "stderr",
     "output_type": "stream",
     "text": [
      "C:\\Users\\ASUS\\anaconda3\\Lib\\site-packages\\keras\\src\\layers\\core\\dense.py:87: UserWarning: Do not pass an `input_shape`/`input_dim` argument to a layer. When using Sequential models, prefer using an `Input(shape)` object as the first layer in the model instead.\n",
      "  super().__init__(activity_regularizer=activity_regularizer, **kwargs)\n"
     ]
    }
   ],
   "source": [
    "# first layer\n",
    "# The input dimension to this layer is set in the parameter input_dim, \n",
    "# which is the number of features defined by the shape of X_train vector\n",
    "\n",
    "model.add(keras.layers.Dense(128, activation = 'relu', input_dim = X_train.shape[1]))"
   ]
  },
  {
   "cell_type": "markdown",
   "id": "bf9c1e71",
   "metadata": {},
   "source": [
    "### The activation function is used in deciding whether the node is to be activated depending on its weighted sum\n",
    "ReLU is the most widely used activation function that \n",
    "outputs 0 for negative inputs and 1 otherwise."
   ]
  },
  {
   "cell_type": "code",
   "execution_count": 102,
   "id": "8711ddd8",
   "metadata": {},
   "outputs": [],
   "source": [
    "# second layer\n",
    "# The input to this layer comes from the previous layer so there is no need to specify the dimensions of the input vector\n",
    "\n",
    "model.add(keras.layers.Dense(64, activation = 'relu'))\n"
   ]
  },
  {
   "cell_type": "code",
   "execution_count": 103,
   "id": "42029b70",
   "metadata": {},
   "outputs": [],
   "source": [
    "# 3th layer\n",
    "\n",
    "model.add(keras.layers.Dense(32, activation = 'relu'))\n"
   ]
  },
  {
   "cell_type": "code",
   "execution_count": 104,
   "id": "536920cb",
   "metadata": {},
   "outputs": [],
   "source": [
    "# last layer\n",
    "# we use sigmoid as the activation function here as this layer is outputting a binary value\n",
    "\n",
    "model.add(keras.layers.Dense(1, activation = 'sigmoid'))\n"
   ]
  },
  {
   "cell_type": "markdown",
   "id": "07153eab",
   "metadata": {},
   "source": [
    "#### A sigmoid function is a type of activation function and is also known as a squashing function.\n",
    "* A squashing function limits the output to a range between 0 and 1, making it suitable in predicting probabilities"
   ]
  },
  {
   "cell_type": "code",
   "execution_count": 105,
   "id": "2f6536c6",
   "metadata": {},
   "outputs": [
    {
     "data": {
      "text/html": [
       "<pre style=\"white-space:pre;overflow-x:auto;line-height:normal;font-family:Menlo,'DejaVu Sans Mono',consolas,'Courier New',monospace\"><span style=\"font-weight: bold\">Model: \"sequential_2\"</span>\n",
       "</pre>\n"
      ],
      "text/plain": [
       "\u001b[1mModel: \"sequential_2\"\u001b[0m\n"
      ]
     },
     "metadata": {},
     "output_type": "display_data"
    },
    {
     "data": {
      "text/html": [
       "<pre style=\"white-space:pre;overflow-x:auto;line-height:normal;font-family:Menlo,'DejaVu Sans Mono',consolas,'Courier New',monospace\">┏━━━━━━━━━━━━━━━━━━━━━━━━━━━━━━━━━━━━━━┳━━━━━━━━━━━━━━━━━━━━━━━━━━━━━┳━━━━━━━━━━━━━━━━━┓\n",
       "┃<span style=\"font-weight: bold\"> Layer (type)                         </span>┃<span style=\"font-weight: bold\"> Output Shape                </span>┃<span style=\"font-weight: bold\">         Param # </span>┃\n",
       "┡━━━━━━━━━━━━━━━━━━━━━━━━━━━━━━━━━━━━━━╇━━━━━━━━━━━━━━━━━━━━━━━━━━━━━╇━━━━━━━━━━━━━━━━━┩\n",
       "│ dense_10 (<span style=\"color: #0087ff; text-decoration-color: #0087ff\">Dense</span>)                     │ (<span style=\"color: #00d7ff; text-decoration-color: #00d7ff\">None</span>, <span style=\"color: #00af00; text-decoration-color: #00af00\">128</span>)                 │           <span style=\"color: #00af00; text-decoration-color: #00af00\">1,536</span> │\n",
       "├──────────────────────────────────────┼─────────────────────────────┼─────────────────┤\n",
       "│ dense_11 (<span style=\"color: #0087ff; text-decoration-color: #0087ff\">Dense</span>)                     │ (<span style=\"color: #00d7ff; text-decoration-color: #00d7ff\">None</span>, <span style=\"color: #00af00; text-decoration-color: #00af00\">64</span>)                  │           <span style=\"color: #00af00; text-decoration-color: #00af00\">8,256</span> │\n",
       "├──────────────────────────────────────┼─────────────────────────────┼─────────────────┤\n",
       "│ dense_12 (<span style=\"color: #0087ff; text-decoration-color: #0087ff\">Dense</span>)                     │ (<span style=\"color: #00d7ff; text-decoration-color: #00d7ff\">None</span>, <span style=\"color: #00af00; text-decoration-color: #00af00\">32</span>)                  │           <span style=\"color: #00af00; text-decoration-color: #00af00\">2,080</span> │\n",
       "├──────────────────────────────────────┼─────────────────────────────┼─────────────────┤\n",
       "│ dense_13 (<span style=\"color: #0087ff; text-decoration-color: #0087ff\">Dense</span>)                     │ (<span style=\"color: #00d7ff; text-decoration-color: #00d7ff\">None</span>, <span style=\"color: #00af00; text-decoration-color: #00af00\">1</span>)                   │              <span style=\"color: #00af00; text-decoration-color: #00af00\">33</span> │\n",
       "└──────────────────────────────────────┴─────────────────────────────┴─────────────────┘\n",
       "</pre>\n"
      ],
      "text/plain": [
       "┏━━━━━━━━━━━━━━━━━━━━━━━━━━━━━━━━━━━━━━┳━━━━━━━━━━━━━━━━━━━━━━━━━━━━━┳━━━━━━━━━━━━━━━━━┓\n",
       "┃\u001b[1m \u001b[0m\u001b[1mLayer (type)                        \u001b[0m\u001b[1m \u001b[0m┃\u001b[1m \u001b[0m\u001b[1mOutput Shape               \u001b[0m\u001b[1m \u001b[0m┃\u001b[1m \u001b[0m\u001b[1m        Param #\u001b[0m\u001b[1m \u001b[0m┃\n",
       "┡━━━━━━━━━━━━━━━━━━━━━━━━━━━━━━━━━━━━━━╇━━━━━━━━━━━━━━━━━━━━━━━━━━━━━╇━━━━━━━━━━━━━━━━━┩\n",
       "│ dense_10 (\u001b[38;5;33mDense\u001b[0m)                     │ (\u001b[38;5;45mNone\u001b[0m, \u001b[38;5;34m128\u001b[0m)                 │           \u001b[38;5;34m1,536\u001b[0m │\n",
       "├──────────────────────────────────────┼─────────────────────────────┼─────────────────┤\n",
       "│ dense_11 (\u001b[38;5;33mDense\u001b[0m)                     │ (\u001b[38;5;45mNone\u001b[0m, \u001b[38;5;34m64\u001b[0m)                  │           \u001b[38;5;34m8,256\u001b[0m │\n",
       "├──────────────────────────────────────┼─────────────────────────────┼─────────────────┤\n",
       "│ dense_12 (\u001b[38;5;33mDense\u001b[0m)                     │ (\u001b[38;5;45mNone\u001b[0m, \u001b[38;5;34m32\u001b[0m)                  │           \u001b[38;5;34m2,080\u001b[0m │\n",
       "├──────────────────────────────────────┼─────────────────────────────┼─────────────────┤\n",
       "│ dense_13 (\u001b[38;5;33mDense\u001b[0m)                     │ (\u001b[38;5;45mNone\u001b[0m, \u001b[38;5;34m1\u001b[0m)                   │              \u001b[38;5;34m33\u001b[0m │\n",
       "└──────────────────────────────────────┴─────────────────────────────┴─────────────────┘\n"
      ]
     },
     "metadata": {},
     "output_type": "display_data"
    },
    {
     "data": {
      "text/html": [
       "<pre style=\"white-space:pre;overflow-x:auto;line-height:normal;font-family:Menlo,'DejaVu Sans Mono',consolas,'Courier New',monospace\"><span style=\"font-weight: bold\"> Total params: </span><span style=\"color: #00af00; text-decoration-color: #00af00\">11,905</span> (46.50 KB)\n",
       "</pre>\n"
      ],
      "text/plain": [
       "\u001b[1m Total params: \u001b[0m\u001b[38;5;34m11,905\u001b[0m (46.50 KB)\n"
      ]
     },
     "metadata": {},
     "output_type": "display_data"
    },
    {
     "data": {
      "text/html": [
       "<pre style=\"white-space:pre;overflow-x:auto;line-height:normal;font-family:Menlo,'DejaVu Sans Mono',consolas,'Courier New',monospace\"><span style=\"font-weight: bold\"> Trainable params: </span><span style=\"color: #00af00; text-decoration-color: #00af00\">11,905</span> (46.50 KB)\n",
       "</pre>\n"
      ],
      "text/plain": [
       "\u001b[1m Trainable params: \u001b[0m\u001b[38;5;34m11,905\u001b[0m (46.50 KB)\n"
      ]
     },
     "metadata": {},
     "output_type": "display_data"
    },
    {
     "data": {
      "text/html": [
       "<pre style=\"white-space:pre;overflow-x:auto;line-height:normal;font-family:Menlo,'DejaVu Sans Mono',consolas,'Courier New',monospace\"><span style=\"font-weight: bold\"> Non-trainable params: </span><span style=\"color: #00af00; text-decoration-color: #00af00\">0</span> (0.00 B)\n",
       "</pre>\n"
      ],
      "text/plain": [
       "\u001b[1m Non-trainable params: \u001b[0m\u001b[38;5;34m0\u001b[0m (0.00 B)\n"
      ]
     },
     "metadata": {},
     "output_type": "display_data"
    }
   ],
   "source": [
    "# observe the model summary\n",
    "model.summary()\n"
   ]
  },
  {
   "cell_type": "markdown",
   "id": "b1e20270",
   "metadata": {},
   "source": [
    "# Compiling Model\n"
   ]
  },
  {
   "cell_type": "code",
   "execution_count": 106,
   "id": "8bd8154f",
   "metadata": {},
   "outputs": [],
   "source": [
    "model.compile(loss = 'binary_crossentropy', optimizer='adam', metrics=['accuracy'])"
   ]
  },
  {
   "cell_type": "markdown",
   "id": "56424fe3",
   "metadata": {},
   "source": [
    "* As the model that we are developing is a binary classifier, we use the binary_crossentropy as our loss function"
   ]
  },
  {
   "cell_type": "markdown",
   "id": "fc7bf450",
   "metadata": {},
   "source": [
    "### about optimizer\n",
    "* We use Adam optimizer while training the model as this is suited best in such situations. \n",
    "* Later on after the training, if you are not satisfied with the model’s performance, you may experiment with other optimizers"
   ]
  },
  {
   "cell_type": "markdown",
   "id": "d45a8711",
   "metadata": {},
   "source": [
    "# tensorboard"
   ]
  },
  {
   "cell_type": "code",
   "execution_count": 107,
   "id": "9f2e8a97",
   "metadata": {},
   "outputs": [],
   "source": [
    "# To clear the earlier log, we use the following action: (in vs code)\n",
    "# !rm -rf ./log/\n",
    "# or\n",
    "#rm ./log"
   ]
  },
  {
   "cell_type": "code",
   "execution_count": 108,
   "id": "a452a4a1",
   "metadata": {},
   "outputs": [],
   "source": [
    "#tensorboard visualization\n",
    "import datetime, os\n",
    "\n",
    "logdir = os.path.join(\"log\", datetime.datetime.now().strftime(\"%Y%m%d-%H%M%S\"))\n",
    "tensorboard_callback = tf.keras.callbacks.TensorBoard(logdir, histogram_freq = 1)"
   ]
  },
  {
   "cell_type": "code",
   "execution_count": 109,
   "id": "19d1d3ac",
   "metadata": {},
   "outputs": [],
   "source": [
    "# With this setup for training analysis and the compilation of the model, \n",
    "# we are now ready to start the training."
   ]
  },
  {
   "cell_type": "markdown",
   "id": "cb7b7777",
   "metadata": {},
   "source": [
    "# Model Training\n"
   ]
  },
  {
   "cell_type": "code",
   "execution_count": 110,
   "id": "bf17f549",
   "metadata": {},
   "outputs": [
    {
     "name": "stdout",
     "output_type": "stream",
     "text": [
      "Epoch 1/50\n",
      "\u001b[1m219/219\u001b[0m \u001b[32m━━━━━━━━━━━━━━━━━━━━\u001b[0m\u001b[37m\u001b[0m \u001b[1m2s\u001b[0m 4ms/step - accuracy: 0.7769 - loss: 0.4955 - val_accuracy: 0.8543 - val_loss: 0.3753\n",
      "Epoch 2/50\n",
      "\u001b[1m219/219\u001b[0m \u001b[32m━━━━━━━━━━━━━━━━━━━━\u001b[0m\u001b[37m\u001b[0m \u001b[1m1s\u001b[0m 4ms/step - accuracy: 0.8437 - loss: 0.3833 - val_accuracy: 0.8643 - val_loss: 0.3362\n",
      "Epoch 3/50\n",
      "\u001b[1m219/219\u001b[0m \u001b[32m━━━━━━━━━━━━━━━━━━━━\u001b[0m\u001b[37m\u001b[0m \u001b[1m1s\u001b[0m 4ms/step - accuracy: 0.8621 - loss: 0.3386 - val_accuracy: 0.8600 - val_loss: 0.3350\n",
      "Epoch 4/50\n",
      "\u001b[1m219/219\u001b[0m \u001b[32m━━━━━━━━━━━━━━━━━━━━\u001b[0m\u001b[37m\u001b[0m \u001b[1m1s\u001b[0m 3ms/step - accuracy: 0.8617 - loss: 0.3400 - val_accuracy: 0.8637 - val_loss: 0.3317\n",
      "Epoch 5/50\n",
      "\u001b[1m219/219\u001b[0m \u001b[32m━━━━━━━━━━━━━━━━━━━━\u001b[0m\u001b[37m\u001b[0m \u001b[1m1s\u001b[0m 3ms/step - accuracy: 0.8654 - loss: 0.3253 - val_accuracy: 0.8653 - val_loss: 0.3268\n",
      "Epoch 6/50\n",
      "\u001b[1m219/219\u001b[0m \u001b[32m━━━━━━━━━━━━━━━━━━━━\u001b[0m\u001b[37m\u001b[0m \u001b[1m1s\u001b[0m 4ms/step - accuracy: 0.8707 - loss: 0.3132 - val_accuracy: 0.8590 - val_loss: 0.3354\n",
      "Epoch 7/50\n",
      "\u001b[1m219/219\u001b[0m \u001b[32m━━━━━━━━━━━━━━━━━━━━\u001b[0m\u001b[37m\u001b[0m \u001b[1m1s\u001b[0m 3ms/step - accuracy: 0.8694 - loss: 0.3154 - val_accuracy: 0.8657 - val_loss: 0.3333\n",
      "Epoch 8/50\n",
      "\u001b[1m219/219\u001b[0m \u001b[32m━━━━━━━━━━━━━━━━━━━━\u001b[0m\u001b[37m\u001b[0m \u001b[1m1s\u001b[0m 4ms/step - accuracy: 0.8720 - loss: 0.3165 - val_accuracy: 0.8623 - val_loss: 0.3339\n",
      "Epoch 9/50\n",
      "\u001b[1m219/219\u001b[0m \u001b[32m━━━━━━━━━━━━━━━━━━━━\u001b[0m\u001b[37m\u001b[0m \u001b[1m1s\u001b[0m 3ms/step - accuracy: 0.8749 - loss: 0.3030 - val_accuracy: 0.8637 - val_loss: 0.3304\n",
      "Epoch 10/50\n",
      "\u001b[1m219/219\u001b[0m \u001b[32m━━━━━━━━━━━━━━━━━━━━\u001b[0m\u001b[37m\u001b[0m \u001b[1m1s\u001b[0m 3ms/step - accuracy: 0.8657 - loss: 0.3077 - val_accuracy: 0.8607 - val_loss: 0.3334\n",
      "Epoch 11/50\n",
      "\u001b[1m219/219\u001b[0m \u001b[32m━━━━━━━━━━━━━━━━━━━━\u001b[0m\u001b[37m\u001b[0m \u001b[1m1s\u001b[0m 4ms/step - accuracy: 0.8708 - loss: 0.3107 - val_accuracy: 0.8627 - val_loss: 0.3309\n",
      "Epoch 12/50\n",
      "\u001b[1m219/219\u001b[0m \u001b[32m━━━━━━━━━━━━━━━━━━━━\u001b[0m\u001b[37m\u001b[0m \u001b[1m1s\u001b[0m 4ms/step - accuracy: 0.8721 - loss: 0.3001 - val_accuracy: 0.8627 - val_loss: 0.3346\n",
      "Epoch 13/50\n",
      "\u001b[1m219/219\u001b[0m \u001b[32m━━━━━━━━━━━━━━━━━━━━\u001b[0m\u001b[37m\u001b[0m \u001b[1m1s\u001b[0m 3ms/step - accuracy: 0.8725 - loss: 0.2959 - val_accuracy: 0.8593 - val_loss: 0.3338\n",
      "Epoch 14/50\n",
      "\u001b[1m219/219\u001b[0m \u001b[32m━━━━━━━━━━━━━━━━━━━━\u001b[0m\u001b[37m\u001b[0m \u001b[1m1s\u001b[0m 3ms/step - accuracy: 0.8745 - loss: 0.2975 - val_accuracy: 0.8617 - val_loss: 0.3389\n",
      "Epoch 15/50\n",
      "\u001b[1m219/219\u001b[0m \u001b[32m━━━━━━━━━━━━━━━━━━━━\u001b[0m\u001b[37m\u001b[0m \u001b[1m1s\u001b[0m 3ms/step - accuracy: 0.8775 - loss: 0.2854 - val_accuracy: 0.8623 - val_loss: 0.3393\n",
      "Epoch 16/50\n",
      "\u001b[1m219/219\u001b[0m \u001b[32m━━━━━━━━━━━━━━━━━━━━\u001b[0m\u001b[37m\u001b[0m \u001b[1m1s\u001b[0m 4ms/step - accuracy: 0.8820 - loss: 0.2825 - val_accuracy: 0.8593 - val_loss: 0.3459\n",
      "Epoch 17/50\n",
      "\u001b[1m219/219\u001b[0m \u001b[32m━━━━━━━━━━━━━━━━━━━━\u001b[0m\u001b[37m\u001b[0m \u001b[1m1s\u001b[0m 4ms/step - accuracy: 0.8800 - loss: 0.2740 - val_accuracy: 0.8513 - val_loss: 0.3582\n",
      "Epoch 18/50\n",
      "\u001b[1m219/219\u001b[0m \u001b[32m━━━━━━━━━━━━━━━━━━━━\u001b[0m\u001b[37m\u001b[0m \u001b[1m1s\u001b[0m 3ms/step - accuracy: 0.8866 - loss: 0.2722 - val_accuracy: 0.8567 - val_loss: 0.3542\n",
      "Epoch 19/50\n",
      "\u001b[1m219/219\u001b[0m \u001b[32m━━━━━━━━━━━━━━━━━━━━\u001b[0m\u001b[37m\u001b[0m \u001b[1m1s\u001b[0m 4ms/step - accuracy: 0.8832 - loss: 0.2750 - val_accuracy: 0.8567 - val_loss: 0.3648\n",
      "Epoch 20/50\n",
      "\u001b[1m219/219\u001b[0m \u001b[32m━━━━━━━━━━━━━━━━━━━━\u001b[0m\u001b[37m\u001b[0m \u001b[1m1s\u001b[0m 4ms/step - accuracy: 0.8850 - loss: 0.2710 - val_accuracy: 0.8533 - val_loss: 0.3516\n",
      "Epoch 21/50\n",
      "\u001b[1m219/219\u001b[0m \u001b[32m━━━━━━━━━━━━━━━━━━━━\u001b[0m\u001b[37m\u001b[0m \u001b[1m1s\u001b[0m 3ms/step - accuracy: 0.8909 - loss: 0.2567 - val_accuracy: 0.8500 - val_loss: 0.3648\n",
      "Epoch 22/50\n",
      "\u001b[1m219/219\u001b[0m \u001b[32m━━━━━━━━━━━━━━━━━━━━\u001b[0m\u001b[37m\u001b[0m \u001b[1m1s\u001b[0m 4ms/step - accuracy: 0.8907 - loss: 0.2570 - val_accuracy: 0.8560 - val_loss: 0.3637\n",
      "Epoch 23/50\n",
      "\u001b[1m219/219\u001b[0m \u001b[32m━━━━━━━━━━━━━━━━━━━━\u001b[0m\u001b[37m\u001b[0m \u001b[1m1s\u001b[0m 4ms/step - accuracy: 0.8901 - loss: 0.2542 - val_accuracy: 0.8510 - val_loss: 0.3698\n",
      "Epoch 24/50\n",
      "\u001b[1m219/219\u001b[0m \u001b[32m━━━━━━━━━━━━━━━━━━━━\u001b[0m\u001b[37m\u001b[0m \u001b[1m1s\u001b[0m 3ms/step - accuracy: 0.8913 - loss: 0.2558 - val_accuracy: 0.8477 - val_loss: 0.3788\n",
      "Epoch 25/50\n",
      "\u001b[1m219/219\u001b[0m \u001b[32m━━━━━━━━━━━━━━━━━━━━\u001b[0m\u001b[37m\u001b[0m \u001b[1m1s\u001b[0m 4ms/step - accuracy: 0.8945 - loss: 0.2457 - val_accuracy: 0.8550 - val_loss: 0.3669\n",
      "Epoch 26/50\n",
      "\u001b[1m219/219\u001b[0m \u001b[32m━━━━━━━━━━━━━━━━━━━━\u001b[0m\u001b[37m\u001b[0m \u001b[1m1s\u001b[0m 4ms/step - accuracy: 0.9005 - loss: 0.2406 - val_accuracy: 0.8457 - val_loss: 0.3779\n",
      "Epoch 27/50\n",
      "\u001b[1m219/219\u001b[0m \u001b[32m━━━━━━━━━━━━━━━━━━━━\u001b[0m\u001b[37m\u001b[0m \u001b[1m1s\u001b[0m 3ms/step - accuracy: 0.8964 - loss: 0.2495 - val_accuracy: 0.8440 - val_loss: 0.3940\n",
      "Epoch 28/50\n",
      "\u001b[1m219/219\u001b[0m \u001b[32m━━━━━━━━━━━━━━━━━━━━\u001b[0m\u001b[37m\u001b[0m \u001b[1m1s\u001b[0m 4ms/step - accuracy: 0.9020 - loss: 0.2389 - val_accuracy: 0.8347 - val_loss: 0.4036\n",
      "Epoch 29/50\n",
      "\u001b[1m219/219\u001b[0m \u001b[32m━━━━━━━━━━━━━━━━━━━━\u001b[0m\u001b[37m\u001b[0m \u001b[1m1s\u001b[0m 4ms/step - accuracy: 0.9027 - loss: 0.2337 - val_accuracy: 0.8450 - val_loss: 0.3905\n",
      "Epoch 30/50\n",
      "\u001b[1m219/219\u001b[0m \u001b[32m━━━━━━━━━━━━━━━━━━━━\u001b[0m\u001b[37m\u001b[0m \u001b[1m1s\u001b[0m 4ms/step - accuracy: 0.9009 - loss: 0.2318 - val_accuracy: 0.8483 - val_loss: 0.3988\n",
      "Epoch 31/50\n",
      "\u001b[1m219/219\u001b[0m \u001b[32m━━━━━━━━━━━━━━━━━━━━\u001b[0m\u001b[37m\u001b[0m \u001b[1m1s\u001b[0m 3ms/step - accuracy: 0.9090 - loss: 0.2180 - val_accuracy: 0.8433 - val_loss: 0.4062\n",
      "Epoch 32/50\n",
      "\u001b[1m219/219\u001b[0m \u001b[32m━━━━━━━━━━━━━━━━━━━━\u001b[0m\u001b[37m\u001b[0m \u001b[1m1s\u001b[0m 3ms/step - accuracy: 0.9094 - loss: 0.2209 - val_accuracy: 0.8477 - val_loss: 0.4159\n",
      "Epoch 33/50\n",
      "\u001b[1m219/219\u001b[0m \u001b[32m━━━━━━━━━━━━━━━━━━━━\u001b[0m\u001b[37m\u001b[0m \u001b[1m1s\u001b[0m 4ms/step - accuracy: 0.9128 - loss: 0.2129 - val_accuracy: 0.8497 - val_loss: 0.4203\n",
      "Epoch 34/50\n",
      "\u001b[1m219/219\u001b[0m \u001b[32m━━━━━━━━━━━━━━━━━━━━\u001b[0m\u001b[37m\u001b[0m \u001b[1m1s\u001b[0m 3ms/step - accuracy: 0.9168 - loss: 0.2032 - val_accuracy: 0.8360 - val_loss: 0.4425\n",
      "Epoch 35/50\n",
      "\u001b[1m219/219\u001b[0m \u001b[32m━━━━━━━━━━━━━━━━━━━━\u001b[0m\u001b[37m\u001b[0m \u001b[1m1s\u001b[0m 3ms/step - accuracy: 0.9120 - loss: 0.2064 - val_accuracy: 0.8477 - val_loss: 0.4305\n",
      "Epoch 36/50\n",
      "\u001b[1m219/219\u001b[0m \u001b[32m━━━━━━━━━━━━━━━━━━━━\u001b[0m\u001b[37m\u001b[0m \u001b[1m1s\u001b[0m 4ms/step - accuracy: 0.9196 - loss: 0.2021 - val_accuracy: 0.8427 - val_loss: 0.4298\n",
      "Epoch 37/50\n",
      "\u001b[1m219/219\u001b[0m \u001b[32m━━━━━━━━━━━━━━━━━━━━\u001b[0m\u001b[37m\u001b[0m \u001b[1m1s\u001b[0m 3ms/step - accuracy: 0.9225 - loss: 0.1871 - val_accuracy: 0.8370 - val_loss: 0.4562\n",
      "Epoch 38/50\n",
      "\u001b[1m219/219\u001b[0m \u001b[32m━━━━━━━━━━━━━━━━━━━━\u001b[0m\u001b[37m\u001b[0m \u001b[1m1s\u001b[0m 5ms/step - accuracy: 0.9168 - loss: 0.1854 - val_accuracy: 0.8340 - val_loss: 0.4446\n",
      "Epoch 39/50\n",
      "\u001b[1m219/219\u001b[0m \u001b[32m━━━━━━━━━━━━━━━━━━━━\u001b[0m\u001b[37m\u001b[0m \u001b[1m1s\u001b[0m 3ms/step - accuracy: 0.9229 - loss: 0.1922 - val_accuracy: 0.8413 - val_loss: 0.4602\n",
      "Epoch 40/50\n",
      "\u001b[1m219/219\u001b[0m \u001b[32m━━━━━━━━━━━━━━━━━━━━\u001b[0m\u001b[37m\u001b[0m \u001b[1m1s\u001b[0m 3ms/step - accuracy: 0.9160 - loss: 0.1930 - val_accuracy: 0.8437 - val_loss: 0.4641\n",
      "Epoch 41/50\n",
      "\u001b[1m219/219\u001b[0m \u001b[32m━━━━━━━━━━━━━━━━━━━━\u001b[0m\u001b[37m\u001b[0m \u001b[1m1s\u001b[0m 4ms/step - accuracy: 0.9232 - loss: 0.1803 - val_accuracy: 0.8283 - val_loss: 0.4915\n",
      "Epoch 42/50\n",
      "\u001b[1m219/219\u001b[0m \u001b[32m━━━━━━━━━━━━━━━━━━━━\u001b[0m\u001b[37m\u001b[0m \u001b[1m1s\u001b[0m 3ms/step - accuracy: 0.9273 - loss: 0.1765 - val_accuracy: 0.8323 - val_loss: 0.4876\n",
      "Epoch 43/50\n",
      "\u001b[1m219/219\u001b[0m \u001b[32m━━━━━━━━━━━━━━━━━━━━\u001b[0m\u001b[37m\u001b[0m \u001b[1m1s\u001b[0m 5ms/step - accuracy: 0.9228 - loss: 0.1744 - val_accuracy: 0.8363 - val_loss: 0.5099\n",
      "Epoch 44/50\n",
      "\u001b[1m219/219\u001b[0m \u001b[32m━━━━━━━━━━━━━━━━━━━━\u001b[0m\u001b[37m\u001b[0m \u001b[1m1s\u001b[0m 3ms/step - accuracy: 0.9304 - loss: 0.1682 - val_accuracy: 0.8340 - val_loss: 0.5131\n",
      "Epoch 45/50\n",
      "\u001b[1m219/219\u001b[0m \u001b[32m━━━━━━━━━━━━━━━━━━━━\u001b[0m\u001b[37m\u001b[0m \u001b[1m1s\u001b[0m 3ms/step - accuracy: 0.9275 - loss: 0.1681 - val_accuracy: 0.8360 - val_loss: 0.5055\n",
      "Epoch 46/50\n",
      "\u001b[1m219/219\u001b[0m \u001b[32m━━━━━━━━━━━━━━━━━━━━\u001b[0m\u001b[37m\u001b[0m \u001b[1m1s\u001b[0m 4ms/step - accuracy: 0.9361 - loss: 0.1555 - val_accuracy: 0.8287 - val_loss: 0.5204\n",
      "Epoch 47/50\n",
      "\u001b[1m219/219\u001b[0m \u001b[32m━━━━━━━━━━━━━━━━━━━━\u001b[0m\u001b[37m\u001b[0m \u001b[1m1s\u001b[0m 3ms/step - accuracy: 0.9314 - loss: 0.1544 - val_accuracy: 0.8287 - val_loss: 0.5481\n",
      "Epoch 48/50\n",
      "\u001b[1m219/219\u001b[0m \u001b[32m━━━━━━━━━━━━━━━━━━━━\u001b[0m\u001b[37m\u001b[0m \u001b[1m1s\u001b[0m 3ms/step - accuracy: 0.9313 - loss: 0.1637 - val_accuracy: 0.8197 - val_loss: 0.5611\n",
      "Epoch 49/50\n",
      "\u001b[1m219/219\u001b[0m \u001b[32m━━━━━━━━━━━━━━━━━━━━\u001b[0m\u001b[37m\u001b[0m \u001b[1m1s\u001b[0m 4ms/step - accuracy: 0.9370 - loss: 0.1491 - val_accuracy: 0.8337 - val_loss: 0.5321\n",
      "Epoch 50/50\n",
      "\u001b[1m219/219\u001b[0m \u001b[32m━━━━━━━━━━━━━━━━━━━━\u001b[0m\u001b[37m\u001b[0m \u001b[1m1s\u001b[0m 3ms/step - accuracy: 0.9375 - loss: 0.1492 - val_accuracy: 0.8343 - val_loss: 0.5903\n"
     ]
    }
   ],
   "source": [
    "r = model.fit(X_train, y_train, batch_size = 32, epochs = 50,\n",
    "              validation_data = (X_test, y_test), callbacks = [tensorboard_callback])"
   ]
  },
  {
   "cell_type": "markdown",
   "id": "a410b154",
   "metadata": {},
   "source": [
    "# Performance Evaluation\n"
   ]
  },
  {
   "cell_type": "code",
   "execution_count": 111,
   "id": "46efa080",
   "metadata": {
    "scrolled": true
   },
   "outputs": [
    {
     "name": "stdout",
     "output_type": "stream",
     "text": [
      "The tensorboard extension is already loaded. To reload it, use:\n",
      "  %reload_ext tensorboard\n"
     ]
    },
    {
     "data": {
      "text/plain": [
       "Reusing TensorBoard on port 6006 (pid 23904), started 0:01:10 ago. (Use '!kill 23904' to kill it.)"
      ]
     },
     "metadata": {},
     "output_type": "display_data"
    },
    {
     "data": {
      "text/html": [
       "\n",
       "      <iframe id=\"tensorboard-frame-35a61cc1b473341d\" width=\"100%\" height=\"800\" frameborder=\"0\">\n",
       "      </iframe>\n",
       "      <script>\n",
       "        (function() {\n",
       "          const frame = document.getElementById(\"tensorboard-frame-35a61cc1b473341d\");\n",
       "          const url = new URL(\"/\", window.location);\n",
       "          const port = 6006;\n",
       "          if (port) {\n",
       "            url.port = port;\n",
       "          }\n",
       "          frame.src = url;\n",
       "        })();\n",
       "      </script>\n",
       "    "
      ],
      "text/plain": [
       "<IPython.core.display.HTML object>"
      ]
     },
     "metadata": {},
     "output_type": "display_data"
    }
   ],
   "source": [
    "%load_ext tensorboard\n",
    "%tensorboard --logdir log #command to launch tensorboard on colab"
   ]
  },
  {
   "cell_type": "code",
   "execution_count": 112,
   "id": "86b77485",
   "metadata": {},
   "outputs": [
    {
     "name": "stdout",
     "output_type": "stream",
     "text": [
      "\u001b[1m94/94\u001b[0m \u001b[32m━━━━━━━━━━━━━━━━━━━━\u001b[0m\u001b[37m\u001b[0m \u001b[1m0s\u001b[0m 1ms/step - accuracy: 0.8330 - loss: 0.5586\n",
      "Test Loss:  0.5902848839759827\n",
      "Test accuracy:  83.43333601951599\n"
     ]
    }
   ],
   "source": [
    "test_scores = model.evaluate(X_test, y_test)\n",
    "print('Test Loss: ', test_scores[0])\n",
    "print('Test accuracy: ', test_scores[1] * 100)"
   ]
  },
  {
   "cell_type": "code",
   "execution_count": 113,
   "id": "20d17441",
   "metadata": {},
   "outputs": [
    {
     "data": {
      "image/png": "[encoded data removed]",
      "text/plain": [
       "<Figure size 640x480 with 1 Axes>"
      ]
     },
     "metadata": {},
     "output_type": "display_data"
    }
   ],
   "source": [
    "%matplotlib inline\n",
    "import matplotlib.pyplot as plt #for plotting curves\n",
    "plt.plot(r.history['val_accuracy'], label='val_acc')\n",
    "plt.plot(r.history['val_loss'], label='val_loss')\n",
    "plt.legend()\n",
    "plt.show()"
   ]
  },
  {
   "cell_type": "markdown",
   "id": "b9235773",
   "metadata": {},
   "source": [
    "# Predicting on Test Data\n"
   ]
  },
  {
   "cell_type": "code",
   "execution_count": 115,
   "id": "57e9a805",
   "metadata": {},
   "outputs": [],
   "source": [
    "# y_pred = model.predict_classes(X_test)\n"
   ]
  },
  {
   "cell_type": "markdown",
   "id": "b088b2d6",
   "metadata": {},
   "source": [
    "* he predict_classes method has been removed from TensorFlow and Keras since TensorFlow 2.6. \n",
    "* Instead, you can achieve the same functionality using the following approach:\n",
    "* \n",
    "* Use model.predict(X_test) to get the predicted probabilities for each class.\n",
    "* Convert these probabilities to class predictions using np.argmax.\n"
   ]
  },
  {
   "cell_type": "code",
   "execution_count": 125,
   "id": "867a1d5b",
   "metadata": {},
   "outputs": [
    {
     "data": {
      "text/plain": [
       "array([[-1.4436732 , -1.09598752,  3.44018592, ...,  0.09276928,\n",
       "         1.72790383, -0.57380915],\n",
       "       [ 0.0048754 ,  0.91241915, -0.94607926, ..., -0.79223818,\n",
       "         1.72790383, -0.57380915],\n",
       "       [ 1.44307722, -1.09598752, -1.32749362, ..., -0.72817223,\n",
       "         1.72790383, -0.57380915],\n",
       "       ...,\n",
       "       [-0.85390698, -1.09598752, -1.23214003, ...,  0.94598164,\n",
       "         1.72790383, -0.57380915],\n",
       "       [ 0.50152063,  0.91241915, -0.85072567, ...,  0.1403621 ,\n",
       "        -0.57873591, -0.57380915],\n",
       "       [ 1.1119804 , -1.09598752, -0.85072567, ...,  0.97654577,\n",
       "        -0.57873591, -0.57380915]])"
      ]
     },
     "execution_count": 125,
     "metadata": {},
     "output_type": "execute_result"
    }
   ],
   "source": [
    "X_test"
   ]
  },
  {
   "cell_type": "code",
   "execution_count": 131,
   "id": "d5512cd0",
   "metadata": {},
   "outputs": [
    {
     "name": "stdout",
     "output_type": "stream",
     "text": [
      "\u001b[1m94/94\u001b[0m \u001b[32m━━━━━━━━━━━━━━━━━━━━\u001b[0m\u001b[37m\u001b[0m \u001b[1m0s\u001b[0m 1ms/step\n"
     ]
    }
   ],
   "source": [
    "# Get the predicted probabilities for each class\n",
    "y_pred_prob = model.predict(X_test)\n",
    "\n",
    "# Convert probabilities to class predictions\n",
    "import numpy as np\n",
    "y_pred = np.argmax(y_pred_prob, axis=1)\n"
   ]
  },
  {
   "cell_type": "code",
   "execution_count": 133,
   "id": "96519cad",
   "metadata": {},
   "outputs": [
    {
     "data": {
      "text/plain": [
       "(array([2343.,  171.,  119.,   86.,  281.]),\n",
       " array([1.26772015e-09, 2.00000003e-01, 4.00000006e-01, 6.00000024e-01,\n",
       "        8.00000012e-01, 1.00000000e+00]),\n",
       " <BarContainer object of 5 artists>)"
      ]
     },
     "execution_count": 133,
     "metadata": {},
     "output_type": "execute_result"
    },
    {
     "data": {
      "image/png": "[encoded data removed]",
      "text/plain": [
       "<Figure size 640x480 with 1 Axes>"
      ]
     },
     "metadata": {},
     "output_type": "display_data"
    }
   ],
   "source": [
    "plt.hist(y_pred_prob, bins=5, edgecolor='black')\n",
    "# plt.hist(y_pred, bins=5, edgecolor='black')\n"
   ]
  },
  {
   "cell_type": "markdown",
   "id": "5c1778f8",
   "metadata": {},
   "source": [
    "* Here the value of 1 at any index value indicates that the customer is going to leave the bank, \n",
    "* and the value of 0 indicates that the bank has retained the customer"
   ]
  },
  {
   "cell_type": "code",
   "execution_count": null,
   "id": "220ab736",
   "metadata": {},
   "outputs": [],
   "source": []
  }
 ],
 "metadata": {
  "kernelspec": {
   "display_name": "Python 3 (ipykernel)",
   "language": "python",
   "name": "python3"
  },
  "language_info": {
   "codemirror_mode": {
    "name": "ipython",
    "version": 3
   },
   "file_extension": ".py",
   "mimetype": "text/x-python",
   "name": "python",
   "nbconvert_exporter": "python",
   "pygments_lexer": "ipython3",
   "version": "3.11.5"
  }
 },
 "nbformat": 4,
 "nbformat_minor": 5
}
